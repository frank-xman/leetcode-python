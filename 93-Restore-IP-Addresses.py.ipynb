{
 "cells": [
  {
   "cell_type": "code",
   "execution_count": 7,
   "metadata": {},
   "outputs": [
    {
     "name": "stdout",
     "output_type": "stream",
     "text": [
      "\n",
      ".2\n",
      ".2.5\n",
      ".2.5.5\n",
      ".2.5.5.2\n",
      ".2.5.5.22\n",
      ".2.5.5.222\n",
      ".2.5.52\n",
      ".2.5.52.2\n",
      ".2.5.52.22\n",
      ".2.55\n",
      ".2.55.2\n",
      ".2.55.2.2\n",
      ".2.55.2.22\n",
      ".2.55.22\n",
      ".2.55.22.2\n",
      ".2.55.222\n",
      ".25\n",
      ".25.5\n",
      ".25.5.2\n",
      ".25.5.2.2\n",
      ".25.5.2.22\n",
      ".25.5.22\n",
      ".25.5.22.2\n",
      ".25.5.222\n",
      ".25.52\n",
      ".25.52.2\n",
      ".25.52.2.2\n",
      ".25.52.22\n",
      ".255\n",
      ".255.2\n",
      ".255.2.2\n",
      ".255.2.2.2\n",
      ".255.2.22\n",
      ".255.22\n",
      ".255.222\n"
     ]
    },
    {
     "data": {
      "text/plain": [
       "['2.5.5.222',\n",
       " '2.5.52.22',\n",
       " '2.55.2.22',\n",
       " '2.55.22.2',\n",
       " '25.5.2.22',\n",
       " '25.5.22.2',\n",
       " '25.52.2.2',\n",
       " '255.2.2.2']"
      ]
     },
     "execution_count": 7,
     "metadata": {},
     "output_type": "execute_result"
    }
   ],
   "source": [
    "def restoreIpAddresses( s):\n",
    "    if len(s) < 4: return []\n",
    "    results = []\n",
    "    giveIP(s,4,\"\",results,len(s))\n",
    "    return results\n",
    "\n",
    "def giveIP(s,n,result,results,stdlen):\n",
    "    print(result)\n",
    "    if len(s) < n or len(s) > 3*n: return\n",
    "    if n == 0:\n",
    "        if len(result[1:])-3 == stdlen:\n",
    "            results.append(result[1:])\n",
    "        return\n",
    "    for i in range(min(3,len(s))):\n",
    "        if int(s[:(i+1)]) < 256:\n",
    "            giveIP(s[(i+1):],n-1,result+\".\"+str(int(s[:(i+1)])),results,stdlen)\n",
    "    return\n",
    "s='255222'\n",
    "\n",
    "restoreIpAddresses(s)"
   ]
  },
  {
   "cell_type": "code",
   "execution_count": 9,
   "metadata": {},
   "outputs": [
    {
     "name": "stdout",
     "output_type": "stream",
     "text": [
      "12\n",
      "34567\n"
     ]
    }
   ],
   "source": [
    "s='1234567'\n",
    "print(s[:2])\n",
    "print(s[2:])"
   ]
  },
  {
   "cell_type": "code",
   "execution_count": null,
   "metadata": {},
   "outputs": [],
   "source": []
  }
 ],
 "metadata": {
  "kernelspec": {
   "display_name": "Python 3",
   "language": "python",
   "name": "python3"
  },
  "language_info": {
   "codemirror_mode": {
    "name": "ipython",
    "version": 3
   },
   "file_extension": ".py",
   "mimetype": "text/x-python",
   "name": "python",
   "nbconvert_exporter": "python",
   "pygments_lexer": "ipython3",
   "version": "3.6.3"
  }
 },
 "nbformat": 4,
 "nbformat_minor": 2
}
